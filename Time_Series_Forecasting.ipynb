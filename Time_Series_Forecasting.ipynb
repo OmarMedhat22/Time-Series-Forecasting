{
  "nbformat": 4,
  "nbformat_minor": 0,
  "metadata": {
    "colab": {
      "name": "Time-Series-Forecasting.ipynb",
      "provenance": [],
      "collapsed_sections": [],
      "toc_visible": true,
      "include_colab_link": true
    },
    "kernelspec": {
      "display_name": "Python 3",
      "name": "python3"
    }
  },
  "cells": [
    {
      "cell_type": "markdown",
      "metadata": {
        "id": "view-in-github",
        "colab_type": "text"
      },
      "source": [
        "<a href=\"https://colab.research.google.com/github/OmarMedhat22/Time-Series-Forecasting/blob/master/Time_Series_Forecasting.ipynb\" target=\"_parent\"><img src=\"https://colab.research.google.com/assets/colab-badge.svg\" alt=\"Open In Colab\"/></a>"
      ]
    },
    {
      "cell_type": "code",
      "metadata": {
        "id": "zX4Kg8DUTKWO",
        "colab_type": "code",
        "colab": {}
      },
      "source": [
        "#@title Licensed under the Apache License, Version 2.0 (the \"License\");\n",
        "# you may not use this file except in compliance with the License.\n",
        "# You may obtain a copy of the License at\n",
        "#\n",
        "# https://www.apache.org/licenses/LICENSE-2.0\n",
        "#\n",
        "# Unless required by applicable law or agreed to in writing, software\n",
        "# distributed under the License is distributed on an \"AS IS\" BASIS,\n",
        "# WITHOUT WARRANTIES OR CONDITIONS OF ANY KIND, either express or implied.\n",
        "# See the License for the specific language governing permissions and\n",
        "# limitations under the License."
      ],
      "execution_count": null,
      "outputs": []
    },
    {
      "cell_type": "code",
      "metadata": {
        "cellView": "both",
        "colab_type": "code",
        "id": "D1J15Vh_1Jih",
        "colab": {
          "base_uri": "https://localhost:8080/",
          "height": 51
        },
        "outputId": "d8688321-d7c4-481d-e32e-d6119230cf64"
      },
      "source": [
        "!pip install tf-nightly-2.0-preview\n"
      ],
      "execution_count": null,
      "outputs": [
        {
          "output_type": "stream",
          "text": [
            "\u001b[31mERROR: Could not find a version that satisfies the requirement tf-nightly-2.0-preview (from versions: none)\u001b[0m\n",
            "\u001b[31mERROR: No matching distribution found for tf-nightly-2.0-preview\u001b[0m\n"
          ],
          "name": "stdout"
        }
      ]
    },
    {
      "cell_type": "code",
      "metadata": {
        "colab_type": "code",
        "id": "BOjujz601HcS",
        "colab": {
          "base_uri": "https://localhost:8080/",
          "height": 34
        },
        "outputId": "466dd108-4422-44a9-9a2a-2edb5104d31b"
      },
      "source": [
        "import tensorflow as tf\n",
        "import numpy as np\n",
        "import matplotlib.pyplot as plt\n",
        "print(tf.__version__)"
      ],
      "execution_count": null,
      "outputs": [
        {
          "output_type": "stream",
          "text": [
            "2.3.0\n"
          ],
          "name": "stdout"
        }
      ]
    },
    {
      "cell_type": "code",
      "metadata": {
        "colab_type": "code",
        "id": "Zswl7jRtGzkk",
        "colab": {
          "base_uri": "https://localhost:8080/",
          "height": 280
        },
        "outputId": "6a9cbf64-79f6-4754-b008-e96488d25a1b"
      },
      "source": [
        "def plot_series(time, series, format=\"-\", start=0, end=None):\n",
        "    plt.plot(time[start:end], series[start:end], format)\n",
        "    plt.xlabel(\"Time\")\n",
        "    plt.ylabel(\"Value\")\n",
        "    plt.grid(False)\n",
        "\n",
        "def trend(time, slope=0):\n",
        "    return slope * time\n",
        "\n",
        "def seasonal_pattern(season_time):\n",
        "    \"\"\"Just an arbitrary pattern, you can change it if you wish\"\"\"\n",
        "    return np.where(season_time < 0.1,\n",
        "                    np.cos(season_time * 6 * np.pi),\n",
        "                    1/ np.exp(2 * season_time))\n",
        "\n",
        "def seasonality(time, period, amplitude=1, phase=0):\n",
        "    \"\"\"Repeats the same pattern at each period\"\"\"\n",
        "    season_time = ((time + phase) % period) / period\n",
        "    return amplitude * seasonal_pattern(season_time)\n",
        "\n",
        "def noise(time, noise_level=1, seed=None):\n",
        "    rnd = np.random.RandomState(seed)\n",
        "    return rnd.randn(len(time)) * noise_level\n",
        "\n",
        "time = np.arange(10 * 365 + 1, dtype=\"float32\")\n",
        "baseline = 22\n",
        "series = trend(time, 0.4)  \n",
        "baseline = 22\n",
        "amplitude = 40\n",
        "slope = 0.01\n",
        "noise_level = 2\n",
        "\n",
        "# Create the series\n",
        "series = baseline + trend(time, slope) + seasonality(time, period=365, amplitude=amplitude)\n",
        "# Update with noise\n",
        "series += noise(time, noise_level, seed=51)\n",
        "\n",
        "split_time = 3000\n",
        "time_train = time[:split_time]\n",
        "x_train = series[:split_time]\n",
        "time_valid = time[split_time:]\n",
        "x_valid = series[split_time:]\n",
        "\n",
        "window_size = 20\n",
        "batch_size = 32\n",
        "shuffle_buffer_size = 1000\n",
        "\n",
        "plot_series(time, series)"
      ],
      "execution_count": null,
      "outputs": [
        {
          "output_type": "display_data",
          "data": {
            "image/png": "[encoded data removed]",
            "text/plain": [
              "<Figure size 432x288 with 1 Axes>"
            ]
          },
          "metadata": {
            "tags": [],
            "needs_background": "light"
          }
        }
      ]
    },
    {
      "cell_type": "markdown",
      "metadata": {
        "colab_type": "text",
        "id": "GfUTNqti_lNC"
      },
      "source": [
        "Desired output -- a chart that looks like this:\n",
        "\n",
        "![Chart showing upward trend and seasonailty](http://www.laurencemoroney.com/wp-content/uploads/2019/07/plot1.png)"
      ]
    },
    {
      "cell_type": "code",
      "metadata": {
        "colab_type": "code",
        "id": "4sTTIOCbyShY",
        "colab": {}
      },
      "source": [
        "def windowed_dataset(series, window_size, batch_size, shuffle_buffer):\n",
        "  dataset = tf.data.Dataset.from_tensor_slices(series)\n",
        "  dataset = dataset.window(window_size + 1, shift=1, drop_remainder=True)\n",
        "  dataset = dataset.flat_map(lambda window: window.batch(window_size + 1))\n",
        "  dataset = dataset.shuffle(shuffle_buffer).map(lambda window: (window[:-1], window[-1]))\n",
        "  dataset = dataset.batch(batch_size).prefetch(1)\n",
        "  return dataset"
      ],
      "execution_count": null,
      "outputs": []
    },
    {
      "cell_type": "code",
      "metadata": {
        "colab_type": "code",
        "id": "TW-vT7eLYAdb",
        "colab": {
          "base_uri": "https://localhost:8080/",
          "height": 1000
        },
        "outputId": "be396103-4abf-48ea-e4fa-40770739d6a9"
      },
      "source": [
        "dataset = windowed_dataset(x_train, window_size, batch_size, shuffle_buffer_size)\n",
        "\n",
        "\n",
        "model = tf.keras.models.Sequential([\n",
        "    tf.keras.layers.Dense(22,input_shape=[window_size], activation=\"relu\"),\n",
        "    tf.keras.layers.Dense(11,activation=\"relu\"), \n",
        "    tf.keras.layers.Dense(1)\n",
        "])\n",
        "\n",
        "model.compile(loss='mse',optimizer='adam')\n",
        "model.fit(dataset,epochs=100,verbose=1)\n"
      ],
      "execution_count": null,
      "outputs": [
        {
          "output_type": "stream",
          "text": [
            "Epoch 1/100\n",
            "94/94 [==============================] - 0s 4ms/step - loss: 121.3623\n",
            "Epoch 2/100\n",
            "94/94 [==============================] - 0s 4ms/step - loss: 64.3151\n",
            "Epoch 3/100\n",
            "94/94 [==============================] - 0s 4ms/step - loss: 38.6744\n",
            "Epoch 4/100\n",
            "94/94 [==============================] - 0s 5ms/step - loss: 28.8905\n",
            "Epoch 5/100\n",
            "94/94 [==============================] - 0s 4ms/step - loss: 25.7407\n",
            "Epoch 6/100\n",
            "94/94 [==============================] - 0s 4ms/step - loss: 23.8438\n",
            "Epoch 7/100\n",
            "94/94 [==============================] - 0s 5ms/step - loss: 22.4559\n",
            "Epoch 8/100\n",
            "94/94 [==============================] - 0s 4ms/step - loss: 22.0565\n",
            "Epoch 9/100\n",
            "94/94 [==============================] - 0s 4ms/step - loss: 22.1531\n",
            "Epoch 10/100\n",
            "94/94 [==============================] - 0s 4ms/step - loss: 20.2522\n",
            "Epoch 11/100\n",
            "94/94 [==============================] - 0s 4ms/step - loss: 19.7659\n",
            "Epoch 12/100\n",
            "94/94 [==============================] - 0s 4ms/step - loss: 19.4522\n",
            "Epoch 13/100\n",
            "94/94 [==============================] - 0s 4ms/step - loss: 19.2540\n",
            "Epoch 14/100\n",
            "94/94 [==============================] - 0s 5ms/step - loss: 18.4449\n",
            "Epoch 15/100\n",
            "94/94 [==============================] - 0s 5ms/step - loss: 18.4147\n",
            "Epoch 16/100\n",
            "94/94 [==============================] - 0s 5ms/step - loss: 18.6383\n",
            "Epoch 17/100\n",
            "94/94 [==============================] - 0s 5ms/step - loss: 17.6780\n",
            "Epoch 18/100\n",
            "94/94 [==============================] - 0s 5ms/step - loss: 17.5534\n",
            "Epoch 19/100\n",
            "94/94 [==============================] - 0s 5ms/step - loss: 16.8741\n",
            "Epoch 20/100\n",
            "94/94 [==============================] - 0s 5ms/step - loss: 20.6447\n",
            "Epoch 21/100\n",
            "94/94 [==============================] - 0s 5ms/step - loss: 17.7609\n",
            "Epoch 22/100\n",
            "94/94 [==============================] - 0s 5ms/step - loss: 17.0287\n",
            "Epoch 23/100\n",
            "94/94 [==============================] - 0s 5ms/step - loss: 16.3227\n",
            "Epoch 24/100\n",
            "94/94 [==============================] - 0s 5ms/step - loss: 16.2891\n",
            "Epoch 25/100\n",
            "94/94 [==============================] - 0s 5ms/step - loss: 16.3796\n",
            "Epoch 26/100\n",
            "94/94 [==============================] - 0s 5ms/step - loss: 16.7694\n",
            "Epoch 27/100\n",
            "94/94 [==============================] - 0s 5ms/step - loss: 16.3313\n",
            "Epoch 28/100\n",
            "94/94 [==============================] - 0s 5ms/step - loss: 16.3141\n",
            "Epoch 29/100\n",
            "94/94 [==============================] - 0s 5ms/step - loss: 15.4881\n",
            "Epoch 30/100\n",
            "94/94 [==============================] - 0s 5ms/step - loss: 15.9315\n",
            "Epoch 31/100\n",
            "94/94 [==============================] - 0s 5ms/step - loss: 15.9294\n",
            "Epoch 32/100\n",
            "94/94 [==============================] - 0s 5ms/step - loss: 15.5532\n",
            "Epoch 33/100\n",
            "94/94 [==============================] - 0s 5ms/step - loss: 15.8508\n",
            "Epoch 34/100\n",
            "94/94 [==============================] - 0s 4ms/step - loss: 15.4923\n",
            "Epoch 35/100\n",
            "94/94 [==============================] - 0s 4ms/step - loss: 15.4693\n",
            "Epoch 36/100\n",
            "94/94 [==============================] - 0s 4ms/step - loss: 15.5273\n",
            "Epoch 37/100\n",
            "94/94 [==============================] - 0s 4ms/step - loss: 15.5983\n",
            "Epoch 38/100\n",
            "94/94 [==============================] - 0s 4ms/step - loss: 15.5025\n",
            "Epoch 39/100\n",
            "94/94 [==============================] - 0s 4ms/step - loss: 15.0171\n",
            "Epoch 40/100\n",
            "94/94 [==============================] - 0s 4ms/step - loss: 15.0312\n",
            "Epoch 41/100\n",
            "94/94 [==============================] - 0s 4ms/step - loss: 15.0788\n",
            "Epoch 42/100\n",
            "94/94 [==============================] - 0s 4ms/step - loss: 15.0316\n",
            "Epoch 43/100\n",
            "94/94 [==============================] - 0s 5ms/step - loss: 15.2498\n",
            "Epoch 44/100\n",
            "94/94 [==============================] - 0s 4ms/step - loss: 15.3241\n",
            "Epoch 45/100\n",
            "94/94 [==============================] - 0s 5ms/step - loss: 14.7712\n",
            "Epoch 46/100\n",
            "94/94 [==============================] - 0s 5ms/step - loss: 15.3486\n",
            "Epoch 47/100\n",
            "94/94 [==============================] - 0s 4ms/step - loss: 15.0891\n",
            "Epoch 48/100\n",
            "94/94 [==============================] - 0s 4ms/step - loss: 15.0535\n",
            "Epoch 49/100\n",
            "94/94 [==============================] - 0s 4ms/step - loss: 15.0225\n",
            "Epoch 50/100\n",
            "94/94 [==============================] - 0s 4ms/step - loss: 15.3380\n",
            "Epoch 51/100\n",
            "94/94 [==============================] - 0s 4ms/step - loss: 15.3742\n",
            "Epoch 52/100\n",
            "94/94 [==============================] - 0s 4ms/step - loss: 15.4657\n",
            "Epoch 53/100\n",
            "94/94 [==============================] - 0s 4ms/step - loss: 14.8308\n",
            "Epoch 54/100\n",
            "94/94 [==============================] - 0s 4ms/step - loss: 14.8680\n",
            "Epoch 55/100\n",
            "94/94 [==============================] - 0s 4ms/step - loss: 14.8723\n",
            "Epoch 56/100\n",
            "94/94 [==============================] - 0s 4ms/step - loss: 14.8427\n",
            "Epoch 57/100\n",
            "94/94 [==============================] - 0s 4ms/step - loss: 14.6734\n",
            "Epoch 58/100\n",
            "94/94 [==============================] - 0s 5ms/step - loss: 14.6818\n",
            "Epoch 59/100\n",
            "94/94 [==============================] - 0s 5ms/step - loss: 14.5515\n",
            "Epoch 60/100\n",
            "94/94 [==============================] - 0s 4ms/step - loss: 14.2147\n",
            "Epoch 61/100\n",
            "94/94 [==============================] - 0s 4ms/step - loss: 15.3529\n",
            "Epoch 62/100\n",
            "94/94 [==============================] - 0s 4ms/step - loss: 14.5572\n",
            "Epoch 63/100\n",
            "94/94 [==============================] - 0s 4ms/step - loss: 14.6553\n",
            "Epoch 64/100\n",
            "94/94 [==============================] - 0s 5ms/step - loss: 14.7391\n",
            "Epoch 65/100\n",
            "94/94 [==============================] - 0s 4ms/step - loss: 14.1148\n",
            "Epoch 66/100\n",
            "94/94 [==============================] - 0s 4ms/step - loss: 14.1685\n",
            "Epoch 67/100\n",
            "94/94 [==============================] - 0s 4ms/step - loss: 14.5620\n",
            "Epoch 68/100\n",
            "94/94 [==============================] - 0s 5ms/step - loss: 14.4074\n",
            "Epoch 69/100\n",
            "94/94 [==============================] - 0s 4ms/step - loss: 14.2692\n",
            "Epoch 70/100\n",
            "94/94 [==============================] - 0s 4ms/step - loss: 14.2916\n",
            "Epoch 71/100\n",
            "94/94 [==============================] - 0s 5ms/step - loss: 14.5123\n",
            "Epoch 72/100\n",
            "94/94 [==============================] - 0s 4ms/step - loss: 14.1047\n",
            "Epoch 73/100\n",
            "94/94 [==============================] - 0s 4ms/step - loss: 14.2452\n",
            "Epoch 74/100\n",
            "94/94 [==============================] - 0s 4ms/step - loss: 14.9614\n",
            "Epoch 75/100\n",
            "94/94 [==============================] - 0s 4ms/step - loss: 15.0148\n",
            "Epoch 76/100\n",
            "94/94 [==============================] - 0s 4ms/step - loss: 14.2915\n",
            "Epoch 77/100\n",
            "94/94 [==============================] - 0s 4ms/step - loss: 14.1722\n",
            "Epoch 78/100\n",
            "94/94 [==============================] - 0s 4ms/step - loss: 14.1304\n",
            "Epoch 79/100\n",
            "94/94 [==============================] - 0s 5ms/step - loss: 14.3732\n",
            "Epoch 80/100\n",
            "94/94 [==============================] - 0s 4ms/step - loss: 14.1280\n",
            "Epoch 81/100\n",
            "94/94 [==============================] - 0s 4ms/step - loss: 14.1234\n",
            "Epoch 82/100\n",
            "94/94 [==============================] - 0s 4ms/step - loss: 14.2269\n",
            "Epoch 83/100\n",
            "94/94 [==============================] - 0s 4ms/step - loss: 13.9769\n",
            "Epoch 84/100\n",
            "94/94 [==============================] - 0s 4ms/step - loss: 14.5332\n",
            "Epoch 85/100\n",
            "94/94 [==============================] - 0s 4ms/step - loss: 13.8371\n",
            "Epoch 86/100\n",
            "94/94 [==============================] - 0s 4ms/step - loss: 14.1036\n",
            "Epoch 87/100\n",
            "94/94 [==============================] - 0s 4ms/step - loss: 13.7774\n",
            "Epoch 88/100\n",
            "94/94 [==============================] - 0s 4ms/step - loss: 13.9112\n",
            "Epoch 89/100\n",
            "94/94 [==============================] - 0s 5ms/step - loss: 14.0501\n",
            "Epoch 90/100\n",
            "94/94 [==============================] - 0s 4ms/step - loss: 14.5226\n",
            "Epoch 91/100\n",
            "94/94 [==============================] - 0s 4ms/step - loss: 14.0426\n",
            "Epoch 92/100\n",
            "94/94 [==============================] - 0s 4ms/step - loss: 14.1642\n",
            "Epoch 93/100\n",
            "94/94 [==============================] - 0s 4ms/step - loss: 13.6450\n",
            "Epoch 94/100\n",
            "94/94 [==============================] - 0s 4ms/step - loss: 14.0823\n",
            "Epoch 95/100\n",
            "94/94 [==============================] - 0s 4ms/step - loss: 13.8310\n",
            "Epoch 96/100\n",
            "94/94 [==============================] - 0s 5ms/step - loss: 13.6232\n",
            "Epoch 97/100\n",
            "94/94 [==============================] - 0s 4ms/step - loss: 14.0680\n",
            "Epoch 98/100\n",
            "94/94 [==============================] - 0s 4ms/step - loss: 14.2355\n",
            "Epoch 99/100\n",
            "94/94 [==============================] - 0s 4ms/step - loss: 13.2702\n",
            "Epoch 100/100\n",
            "94/94 [==============================] - 0s 4ms/step - loss: 14.2038\n"
          ],
          "name": "stdout"
        },
        {
          "output_type": "execute_result",
          "data": {
            "text/plain": [
              "<tensorflow.python.keras.callbacks.History at 0x7fb9923381d0>"
            ]
          },
          "metadata": {
            "tags": []
          },
          "execution_count": 25
        }
      ]
    },
    {
      "cell_type": "code",
      "metadata": {
        "colab_type": "code",
        "id": "efhco2rYyIFF",
        "colab": {
          "base_uri": "https://localhost:8080/",
          "height": 388
        },
        "outputId": "d64a255d-dcff-4322-ab3c-dc5fe7a7c011"
      },
      "source": [
        "forecast = []\n",
        "for time in range(len(series) - window_size):\n",
        "  forecast.append(model.predict(series[time:time + window_size][np.newaxis]))\n",
        "\n",
        "forecast = forecast[split_time-window_size:]\n",
        "results = np.array(forecast)[:, 0, 0]\n",
        "\n",
        "\n",
        "plt.figure(figsize=(10, 6))\n",
        "\n",
        "plot_series(time_valid, x_valid)\n",
        "plot_series(time_valid, results)"
      ],
      "execution_count": null,
      "outputs": [
        {
          "output_type": "display_data",
          "data": {
            "image/png": "[encoded data removed]",
            "text/plain": [
              "<Figure size 720x432 with 1 Axes>"
            ]
          },
          "metadata": {
            "tags": [],
            "needs_background": "light"
          }
        }
      ]
    },
    {
      "cell_type": "code",
      "metadata": {
        "colab_type": "code",
        "id": "-kT6j186YO6K",
        "colab": {
          "base_uri": "https://localhost:8080/",
          "height": 34
        },
        "outputId": "88dbee4a-9d8e-4284-b250-aa5ddb070228"
      },
      "source": [
        "tf.keras.metrics.mean_absolute_error(x_valid, results).numpy()\n",
        "# EXPECTED OUTPUT\n",
        "# A Value less than 3"
      ],
      "execution_count": null,
      "outputs": [
        {
          "output_type": "execute_result",
          "data": {
            "text/plain": [
              "2.6274755"
            ]
          },
          "metadata": {
            "tags": []
          },
          "execution_count": 27
        }
      ]
    }
  ]
}